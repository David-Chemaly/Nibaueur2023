{
 "cells": [
  {
   "cell_type": "code",
   "execution_count": 187,
   "metadata": {},
   "outputs": [],
   "source": [
    "import numpy as np\n",
    "import matplotlib.pyplot as plt\n",
    "from tqdm import tqdm\n",
    "\n",
    "import astropy.units as u\n",
    "from astropy.constants import G\n",
    "G = G.to(u.pc * u.Msun**-1 * (u.km / u.s)**2)\n",
    "from astropy.coordinates import CartesianRepresentation, CartesianDifferential\n",
    "\n",
    "import gala.potential as gp\n",
    "import gala.dynamics as gd\n",
    "import gala.integrate as gi\n",
    "import gala.units as gu\n",
    "\n",
    "from gala.units import galactic\n",
    "from gala.potential import NFWPotential\n",
    "from gala.dynamics import PhaseSpacePosition, MockStream\n",
    "from gala.integrate import LeapfrogIntegrator\n"
   ]
  },
  {
   "cell_type": "code",
   "execution_count": 188,
   "metadata": {},
   "outputs": [],
   "source": [
    "# Parameters\n",
    "\n",
    "mass_halo = 1e12 * u.Msun\n",
    "r_s = 10 * u.kpc\n",
    "\n",
    "mass_plummer = 1e8 * u.Msun\n",
    "r_plummer = 1 * u.kpc\n",
    "\n",
    "time = 1 * u.Gyr\n",
    "dt   = 1 * u.Myr\n",
    "\n",
    "pos_p = [-50, 0, 1] * u.kpc\n",
    "vel_p = [0, 175, 0] * u.km/u.s\n",
    "\n",
    "N  = 10\n",
    "dN = 1\n",
    "\n",
    "# Define Main Halo Potential\n",
    "pot_NFW = gp.NFWPotential(mass_halo, r_s, a=1, b=1, c=1, units=galactic, origin=None, R=None)\n",
    "\n",
    "step = int(time/dt)\n",
    "step_N = int(step/N)\n",
    "\n",
    "orbit_pos_p = np.zeros((step, 3)) * u.kpc\n",
    "orbit_vel_p = np.zeros((step, 3)) \n",
    "orbit_pos_p[0] = pos_p\n",
    "orbit_vel_p[0] = vel_p\n",
    "\n",
    "pos_N = np.zeros((N, 3)) * u.kpc\n",
    "vel_N = np.zeros((N, 3)) * u.km/u.s\n",
    "\n",
    "orbit_pos_N = np.zeros((step, N, 3)) * u.kpc\n",
    "orbit_vel_N = np.zeros((step, N, 3)) * u.km/u.s"
   ]
  },
  {
   "cell_type": "code",
   "execution_count": 190,
   "metadata": {},
   "outputs": [
    {
     "data": {
      "text/plain": [
       "array([ -0.74652172, 176.56551666,  -0.92377883])"
      ]
     },
     "execution_count": 190,
     "metadata": {},
     "output_type": "execute_result"
    }
   ],
   "source": [
    "np.random.normal(vel_p, 3 * u.km/u.s)"
   ]
  },
  {
   "cell_type": "code",
   "execution_count": 192,
   "metadata": {},
   "outputs": [
    {
     "data": {
      "text/latex": [
       "$[3,~178,~3] \\; \\mathrm{\\frac{km}{s}}$"
      ],
      "text/plain": [
       "<Quantity [  3., 178.,   3.] km / s>"
      ]
     },
     "execution_count": 192,
     "metadata": {},
     "output_type": "execute_result"
    }
   ],
   "source": [
    "vel_p + 3 * u.km/u.s"
   ]
  },
  {
   "cell_type": "code",
   "execution_count": 3,
   "metadata": {},
   "outputs": [
    {
     "name": "stderr",
     "output_type": "stream",
     "text": [
      "  0%|          | 0/999 [00:00<?, ?it/s]"
     ]
    },
    {
     "ename": "",
     "evalue": "",
     "output_type": "error",
     "traceback": [
      "\u001b[1;31mCannot execute code, session has been disposed. Please try restarting the Kernel."
     ]
    },
    {
     "ename": "",
     "evalue": "",
     "output_type": "error",
     "traceback": [
      "\u001b[1;31mThe Kernel crashed while executing code in the the current cell or a previous cell. Please review the code in the cell(s) to identify a possible cause of the failure. Click <a href='https://aka.ms/vscodeJupyterKernelCrash'>here</a> for more info. View Jupyter <a href='command:jupyter.viewOutput'>log</a> for further details."
     ]
    }
   ],
   "source": [
    "for i in tqdm(range(step-1)):\n",
    "\n",
    "    if i==0: #i % step_N == 0:\n",
    "        j = i//step_N\n",
    "\n",
    "        # New N initial conditions\n",
    "        pos_N[j] = pos_p # + 2 * u.kpc # tidal radius\n",
    "        vel_N[j] = vel_p # velocity dispersion\n",
    "\n",
    "    if i == 0:\n",
    "        orbit_pos_N[i] = pos_N\n",
    "        orbit_vel_N[i] = vel_N\n",
    "\n",
    "    # All N in Phase Space Position\n",
    "    wN = gd.PhaseSpacePosition(pos = pos_N[:j + 1],\n",
    "                               vel = vel_N[:j + 1])\n",
    "\n",
    "    # Define Plummer Potential\n",
    "    pot_plummer  = gp.PlummerPotential(mass_plummer, r_plummer, units=galactic, origin=pos_p, R=None)\n",
    "    pot_combined = pot_NFW + pot_plummer\n",
    "    orbit_N = gp.Hamiltonian(pot_NFW).integrate_orbit(wN, dt=dt, n_steps=1)\n",
    "    pos_N[:j+1] = orbit_N.xyz[:, -1]\n",
    "    vel_N[:j+1] = orbit_N.v_xyz[:, -1]\n",
    "\n",
    "    # Progenitor Phase Space Position\n",
    "    wp = gd.PhaseSpacePosition(pos = pos_p,\n",
    "                               vel = vel_p)\n",
    "    \n",
    "    # Progenitor new Position and Velocity\n",
    "    orbit_p = gp.Hamiltonian(pot_NFW).integrate_orbit(wp, dt=dt, n_steps=1)\n",
    "    pos_p = orbit_p.xyz[:, -1]\n",
    "    vel_p = orbit_p.v_xyz[:, -1]\n",
    "\n",
    "    # Save Progenitor new Position and Velocity\n",
    "    orbit_pos_p[i+1] = pos_p\n",
    "    orbit_vel_p[i+1] = vel_p\n",
    "\n",
    "    # Save N new Position and Velocity\n",
    "    orbit_pos_N[i+1] = pos_N\n",
    "    orbit_vel_N[i+1] = vel_N\n"
   ]
  },
  {
   "cell_type": "code",
   "execution_count": 151,
   "metadata": {},
   "outputs": [],
   "source": [
    "import sympy as sp\n",
    "\n",
    "def get_Jacobian(a,b,c):\n",
    "    # Define the symbols for Cartesian and Spherical coordinates\n",
    "    x, y, z = sp.symbols('x y z')\n",
    "    r, theta, phi = sp.symbols('r theta phi')\n",
    "\n",
    "    # Define the transformations from Cartesian to Spherical coordinates\n",
    "    r_expr = sp.sqrt(x**2 + y**2 + z**2)\n",
    "    theta_expr = sp.acos(z / sp.sqrt(x**2 + y**2 + z**2))\n",
    "    phi_expr = sp.atan2(y, x)\n",
    "\n",
    "    # Create the Jacobian matrix\n",
    "    J = sp.Matrix([\n",
    "        [r_expr.diff(x), r_expr.diff(y), r_expr.diff(z)],\n",
    "        [theta_expr.diff(x), theta_expr.diff(y), theta_expr.diff(z)],\n",
    "        [phi_expr.diff(x), phi_expr.diff(y), phi_expr.diff(z)]\n",
    "    ])\n",
    "\n",
    "    # Define a specific point (x, y, z)\n",
    "    point = {x: a, y: b, z: c}  # Example point\n",
    "\n",
    "    # Substitute the point into the Jacobian matrix to get numeric values\n",
    "    J_numeric = J.subs(point)\n",
    "\n",
    "    return np.array(J_numeric, dtype=float)\n",
    "\n",
    "def get_rt(wp, pot_NFW, mass_plummer):\n",
    "\n",
    "    rp = np.linalg.norm( wp.xyz )\n",
    "    angular_velocity = ( np.linalg.norm( wp.angular_momentum() ) / rp**2 ).to(u.Gyr**-1)\n",
    "\n",
    "    J = get_Jacobian(wp.x.value, wp.y.value, wp.z.value)\n",
    "    d2pdr2 = (J.T * pot_NFW.hessian( wp )[:,:,0] * J)[0,0]\n",
    "    print(d2pdr2.to(u.Gyr**-2))\n",
    "    rt = ( G * mass_plummer / (angular_velocity**2 - d2pdr2) ).to(u.kpc**3) **(1/3)\n",
    "    return rt\n"
   ]
  },
  {
   "cell_type": "code",
   "execution_count": 154,
   "metadata": {},
   "outputs": [],
   "source": [
    "rp = np.linalg.norm( wp.xyz )\n",
    "angular_velocity = ( np.linalg.norm( wp.angular_momentum() ) / rp**2 ).to(u.Gyr**-1)\n",
    "\n",
    "J = get_Jacobian(wp.x.value, wp.y.value, wp.z.value)\n",
    "hessian = pot_NFW.hessian( wp )[:,:,0]\n",
    "d2pdr2 = (J.T * hessian * J)[0,0]\n",
    "rt = ( G * mass_plummer / (angular_velocity**2 - d2pdr2) ).to(u.kpc**3) **(1/3)"
   ]
  },
  {
   "cell_type": "code",
   "execution_count": 186,
   "metadata": {},
   "outputs": [
    {
     "data": {
      "text/plain": [
       "400"
      ]
     },
     "execution_count": 186,
     "metadata": {},
     "output_type": "execute_result"
    }
   ],
   "source": [
    "time = 4 * u.Gyr\n",
    "dt   = 10 * u.Myr\n",
    "\n",
    "int(time/dt)"
   ]
  },
  {
   "cell_type": "code",
   "execution_count": 173,
   "metadata": {},
   "outputs": [
    {
     "data": {
      "text/latex": [
       "$7.9952024 \\times 10^{-6} \\; \\mathrm{\\frac{1}{kpc}}$"
      ],
      "text/plain": [
       "<Quantity 7.9952024e-06 1 / kpc>"
      ]
     },
     "execution_count": 173,
     "metadata": {},
     "output_type": "execute_result"
    }
   ],
   "source": [
    "(1/rp - wp.x**2/rp**3)"
   ]
  },
  {
   "cell_type": "code",
   "execution_count": 175,
   "metadata": {},
   "outputs": [
    {
     "data": {
      "text/latex": [
       "$[121.14] \\; \\mathrm{\\frac{kpc^{2}}{Myr^{2}}}$"
      ],
      "text/plain": [
       "<Quantity [121.14000259] kpc2 / Myr2>"
      ]
     },
     "execution_count": 175,
     "metadata": {},
     "output_type": "execute_result"
    }
   ],
   "source": [
    " a_vector[0]*(1/rp - wp.x**2/rp**3)**-1"
   ]
  },
  {
   "cell_type": "code",
   "execution_count": 176,
   "metadata": {},
   "outputs": [
    {
     "data": {
      "text/latex": [
       "$-2.0381487 \\times 10^{-5} \\; \\mathrm{\\frac{1}{Myr^{2}}}$"
      ],
      "text/plain": [
       "<Quantity -2.03814865e-05 1 / Myr2>"
      ]
     },
     "execution_count": 176,
     "metadata": {},
     "output_type": "execute_result"
    }
   ],
   "source": [
    "hessian[0,0]*(wp.x/rp)**-2 "
   ]
  },
  {
   "cell_type": "code",
   "execution_count": 179,
   "metadata": {},
   "outputs": [
    {
     "data": {
      "text/latex": [
       "$[-20.373738] \\; \\mathrm{\\frac{1}{Gyr^{2}}}$"
      ],
      "text/plain": [
       "<Quantity [-20.3737382] 1 / Gyr2>"
      ]
     },
     "execution_count": 179,
     "metadata": {},
     "output_type": "execute_result"
    }
   ],
   "source": [
    "(hessian[0,0]*(wp.x/rp)**-2 + a_vector[0]*(1/wp.x - rp**2/wp.x**3)).to(u.Gyr**-2)"
   ]
  },
  {
   "cell_type": "code",
   "execution_count": 184,
   "metadata": {},
   "outputs": [
    {
     "data": {
      "text/latex": [
       "$[96833.495] \\; \\mathrm{\\frac{1}{Gyr^{2}}}$"
      ],
      "text/plain": [
       "<Quantity [96833.49469795] 1 / Gyr2>"
      ]
     },
     "execution_count": 184,
     "metadata": {},
     "output_type": "execute_result"
    }
   ],
   "source": [
    "(hessian[2,2]*(wp.z/rp)**-2 + a_vector[2]*(1/wp.z - rp**2/wp.z**3)).to(u.Gyr**-2)"
   ]
  },
  {
   "cell_type": "code",
   "execution_count": 183,
   "metadata": {},
   "outputs": [
    {
     "data": {
      "text/latex": [
       "$1 \\; \\mathrm{kpc}$"
      ],
      "text/plain": [
       "<Quantity 1. kpc>"
      ]
     },
     "execution_count": 183,
     "metadata": {},
     "output_type": "execute_result"
    }
   ],
   "source": [
    "wp.z"
   ]
  },
  {
   "cell_type": "code",
   "execution_count": 161,
   "metadata": {},
   "outputs": [
    {
     "data": {
      "text/latex": [
       "$125075.01 \\; \\mathrm{kpc}$"
      ],
      "text/plain": [
       "<Quantity 125075.00749952 kpc>"
      ]
     },
     "execution_count": 161,
     "metadata": {},
     "output_type": "execute_result"
    }
   ],
   "source": [
    "(1/rp - wp.x**2/rp**3)**-1"
   ]
  },
  {
   "cell_type": "code",
   "execution_count": 152,
   "metadata": {},
   "outputs": [
    {
     "name": "stdout",
     "output_type": "stream",
     "text": [
      "-20.36519109498713 1 / Gyr2\n",
      "11.068661700563187 kpc\n"
     ]
    }
   ],
   "source": [
    "rt = get_rt(wp, pot_NFW, mass_plummer)\n",
    "print(rt)"
   ]
  },
  {
   "cell_type": "code",
   "execution_count": null,
   "metadata": {},
   "outputs": [],
   "source": []
  }
 ],
 "metadata": {
  "kernelspec": {
   "display_name": "Ant",
   "language": "python",
   "name": "python3"
  },
  "language_info": {
   "codemirror_mode": {
    "name": "ipython",
    "version": 3
   },
   "file_extension": ".py",
   "mimetype": "text/x-python",
   "name": "python",
   "nbconvert_exporter": "python",
   "pygments_lexer": "ipython3",
   "version": "3.11.6"
  },
  "orig_nbformat": 4
 },
 "nbformat": 4,
 "nbformat_minor": 2
}
