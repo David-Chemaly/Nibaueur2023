{
 "cells": [
  {
   "cell_type": "code",
   "execution_count": 1,
   "metadata": {},
   "outputs": [],
   "source": [
    "import numpy as np\n",
    "import matplotlib.pyplot as plt\n",
    "from tqdm import tqdm\n",
    "\n",
    "import astropy.units as u\n",
    "from astropy.constants import G\n",
    "from astropy.coordinates import CartesianRepresentation, CartesianDifferential\n",
    "\n",
    "import gala.potential as gp\n",
    "import gala.dynamics as gd\n",
    "import gala.integrate as gi\n",
    "import gala.units as gu\n",
    "\n",
    "from gala.units import galactic\n",
    "from gala.potential import NFWPotential\n",
    "from gala.dynamics import PhaseSpacePosition, MockStream\n",
    "from gala.integrate import LeapfrogIntegrator\n"
   ]
  },
  {
   "cell_type": "code",
   "execution_count": 2,
   "metadata": {},
   "outputs": [],
   "source": [
    "# Parameters\n",
    "\n",
    "mass_halo = 1e12 * u.Msun\n",
    "r_s = 20 * u.kpc\n",
    "\n",
    "mass_plummer = 1e10 * u.Msun\n",
    "r_plummer = 2 * u.kpc\n",
    "\n",
    "time = 1 * u.Gyr\n",
    "dt   = 1 * u.Myr\n",
    "\n",
    "pos_p = [-50, 0, 1] * u.kpc\n",
    "vel_p = [0, 175, 0] * u.km/u.s\n",
    "\n",
    "N  = 10\n",
    "dN = 1\n",
    "\n",
    "# Define Main Halo Potential\n",
    "pot_NFW = gp.NFWPotential(mass_halo, r_s, a=1, b=1, c=1, units=galactic, origin=None, R=None)\n",
    "\n",
    "step = int(time/dt)\n",
    "step_N = int(step/N)\n",
    "\n",
    "orbit_pos_p = np.zeros((step, 3)) * u.kpc\n",
    "orbit_vel_p = np.zeros((step, 3)) \n",
    "orbit_pos_p[0] = pos_p\n",
    "orbit_vel_p[0] = vel_p\n",
    "\n",
    "pos_N = np.zeros((N, 3)) * u.kpc\n",
    "vel_N = np.zeros((N, 3)) * u.km/u.s\n",
    "\n",
    "orbit_pos_N = np.zeros((step, N, 3)) * u.kpc\n",
    "orbit_vel_N = np.zeros((step, N, 3)) * u.km/u.s"
   ]
  },
  {
   "cell_type": "code",
   "execution_count": 3,
   "metadata": {},
   "outputs": [
    {
     "name": "stderr",
     "output_type": "stream",
     "text": [
      "  0%|          | 0/999 [00:00<?, ?it/s]"
     ]
    },
    {
     "ename": "",
     "evalue": "",
     "output_type": "error",
     "traceback": [
      "\u001b[1;31mCannot execute code, session has been disposed. Please try restarting the Kernel."
     ]
    },
    {
     "ename": "",
     "evalue": "",
     "output_type": "error",
     "traceback": [
      "\u001b[1;31mThe Kernel crashed while executing code in the the current cell or a previous cell. Please review the code in the cell(s) to identify a possible cause of the failure. Click <a href='https://aka.ms/vscodeJupyterKernelCrash'>here</a> for more info. View Jupyter <a href='command:jupyter.viewOutput'>log</a> for further details."
     ]
    }
   ],
   "source": [
    "for i in tqdm(range(step-1)):\n",
    "\n",
    "    if i==0: #i % step_N == 0:\n",
    "        j = i//step_N\n",
    "\n",
    "        # New N initial conditions\n",
    "        pos_N[j] = pos_p # + 2 * u.kpc # tidal radius\n",
    "        vel_N[j] = vel_p # velocity dispersion\n",
    "\n",
    "    if i == 0:\n",
    "        orbit_pos_N[i] = pos_N\n",
    "        orbit_vel_N[i] = vel_N\n",
    "\n",
    "    # All N in Phase Space Position\n",
    "    wN = gd.PhaseSpacePosition(pos = pos_N[:j + 1],\n",
    "                               vel = vel_N[:j + 1])\n",
    "\n",
    "    # Define Plummer Potential\n",
    "    pot_plummer  = gp.PlummerPotential(mass_plummer, r_plummer, units=galactic, origin=pos_p, R=None)\n",
    "    pot_combined = pot_NFW + pot_plummer\n",
    "    orbit_N = gp.Hamiltonian(pot_NFW).integrate_orbit(wN, dt=dt, n_steps=1)\n",
    "    pos_N[:j+1] = orbit_N.xyz[:, -1]\n",
    "    vel_N[:j+1] = orbit_N.v_xyz[:, -1]\n",
    "\n",
    "    # Progenitor Phase Space Position\n",
    "    wp = gd.PhaseSpacePosition(pos = pos_p,\n",
    "                               vel = vel_p)\n",
    "    \n",
    "    # Progenitor new Position and Velocity\n",
    "    orbit_p = gp.Hamiltonian(pot_NFW).integrate_orbit(wp, dt=dt, n_steps=1)\n",
    "    pos_p = orbit_p.xyz[:, -1]\n",
    "    vel_p = orbit_p.v_xyz[:, -1]\n",
    "\n",
    "    # Save Progenitor new Position and Velocity\n",
    "    orbit_pos_p[i+1] = pos_p\n",
    "    orbit_vel_p[i+1] = vel_p\n",
    "\n",
    "    # Save N new Position and Velocity\n",
    "    orbit_pos_N[i+1] = pos_N\n",
    "    orbit_vel_N[i+1] = vel_N\n"
   ]
  },
  {
   "cell_type": "code",
   "execution_count": 9,
   "metadata": {},
   "outputs": [
    {
     "data": {
      "text/latex": [
       "$[[-50,~0,~0],~\n",
       " [-49.999516,~0.17897463,~0],~\n",
       " [-49.998062,~0.35794579,~0],~\n",
       " \\dots,~\n",
       " [-12.213127,~-44.741033,~0],~\n",
       " [-12.387064,~-44.645513,~0],~\n",
       " [-12.560721,~-44.548982,~0]] \\; \\mathrm{kpc}$"
      ],
      "text/plain": [
       "<Quantity [[-50.        ,   0.        ,   0.        ],\n",
       "           [-49.99951553,   0.17897463,   0.        ],\n",
       "           [-49.99806213,   0.35794579,   0.        ],\n",
       "           ...,\n",
       "           [-12.21312677, -44.74103292,   0.        ],\n",
       "           [-12.38706398, -44.64551266,   0.        ],\n",
       "           [-12.56072081, -44.54898183,   0.        ]] kpc>"
      ]
     },
     "execution_count": 9,
     "metadata": {},
     "output_type": "execute_result"
    }
   ],
   "source": [
    "orbit_pos_p"
   ]
  },
  {
   "cell_type": "code",
   "execution_count": 10,
   "metadata": {},
   "outputs": [
    {
     "data": {
      "text/latex": [
       "$[[-50,~0,~0],~\n",
       " [-49.999516,~0.17897463,~{\\rm NaN}],~\n",
       " [-49.998062,~{\\rm NaN},~{\\rm NaN}],~\n",
       " \\dots,~\n",
       " [{\\rm NaN},~{\\rm NaN},~{\\rm NaN}],~\n",
       " [{\\rm NaN},~{\\rm NaN},~{\\rm NaN}],~\n",
       " [{\\rm NaN},~{\\rm NaN},~{\\rm NaN}]] \\; \\mathrm{kpc}$"
      ],
      "text/plain": [
       "<Quantity [[-50.        ,   0.        ,   0.        ],\n",
       "           [-49.99951553,   0.17897463,          nan],\n",
       "           [-49.99806212,          nan,          nan],\n",
       "           ...,\n",
       "           [         nan,          nan,          nan],\n",
       "           [         nan,          nan,          nan],\n",
       "           [         nan,          nan,          nan]] kpc>"
      ]
     },
     "execution_count": 10,
     "metadata": {},
     "output_type": "execute_result"
    }
   ],
   "source": [
    "orbit_pos_N[:,0]"
   ]
  },
  {
   "cell_type": "code",
   "execution_count": 13,
   "metadata": {},
   "outputs": [
    {
     "data": {
      "text/plain": [
       "<matplotlib.collections.PathCollection at 0x124d6e1d0>"
      ]
     },
     "execution_count": 13,
     "metadata": {},
     "output_type": "execute_result"
    },
    {
     "data": {
      "image/png": "[encoded data removed]",
      "text/plain": [
       "<Figure size 640x480 with 1 Axes>"
      ]
     },
     "metadata": {},
     "output_type": "display_data"
    }
   ],
   "source": [
    "plt.scatter(orbit_pos_p[:, 0], orbit_pos_p[:, 1], s=1, c='r')\n",
    "plt.scatter(orbit_pos_N[:, 0, 0], orbit_pos_N[:, 0, 1], s=1, c='b', linewidths=10)"
   ]
  },
  {
   "cell_type": "code",
   "execution_count": 156,
   "metadata": {},
   "outputs": [
    {
     "data": {
      "text/plain": [
       "(3, 2)"
      ]
     },
     "execution_count": 156,
     "metadata": {},
     "output_type": "execute_result"
    }
   ],
   "source": [
    "plt.sca"
   ]
  }
 ],
 "metadata": {
  "kernelspec": {
   "display_name": "Ant",
   "language": "python",
   "name": "python3"
  },
  "language_info": {
   "codemirror_mode": {
    "name": "ipython",
    "version": 3
   },
   "file_extension": ".py",
   "mimetype": "text/x-python",
   "name": "python",
   "nbconvert_exporter": "python",
   "pygments_lexer": "ipython3",
   "version": "3.11.6"
  },
  "orig_nbformat": 4
 },
 "nbformat": 4,
 "nbformat_minor": 2
}
