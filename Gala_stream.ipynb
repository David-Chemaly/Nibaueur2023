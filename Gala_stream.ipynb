{
 "cells": [
  {
   "cell_type": "code",
   "execution_count": 3,
   "metadata": {},
   "outputs": [],
   "source": [
    "import numpy as np\n",
    "import matplotlib.pyplot as plt\n",
    "\n",
    "import astropy.units as u\n",
    "from astropy.constants import G\n",
    "\n",
    "import gala.potential as gp\n",
    "from gala.units import galactic\n",
    "from gala.potential import NFWPotential\n",
    "from gala.dynamics import PhaseSpacePosition, MockStream\n",
    "from gala.integrate import LeapfrogIntegrator\n",
    "\n"
   ]
  },
  {
   "cell_type": "code",
   "execution_count": 14,
   "metadata": {},
   "outputs": [],
   "source": [
    "# Define Main Halo Potential\n",
    "mass_halo = 1e12 * u.Msun\n",
    "r_s = 20 * u.kpc\n",
    "\n",
    "pot_NFW = gp.NFWPotential(mass_halo, r_s, a=1, b=1, c=1, units=galactic, origin=None, R=None)\n",
    "\n",
    "# Define Plummer Potential\n",
    "mass_plummer = 1e10 * u.Msun\n",
    "r_plummer = 2 * u.kpc\n",
    "\n",
    "pot_plummer = gp.PlummerPotential(mass_plummer, r_plummer, units=galactic, origin=None, R=None)"
   ]
  },
  {
   "cell_type": "code",
   "execution_count": null,
   "metadata": {},
   "outputs": [],
   "source": []
  },
  {
   "cell_type": "code",
   "execution_count": 6,
   "metadata": {},
   "outputs": [
    {
     "ename": "UnitConversionError",
     "evalue": "Unit s can not be decomposed into the requested bases",
     "output_type": "error",
     "traceback": [
      "\u001b[0;31m---------------------------------------------------------------------------\u001b[0m",
      "\u001b[0;31mUnitConversionError\u001b[0m                       Traceback (most recent call last)",
      "Cell \u001b[0;32mIn[6], line 13\u001b[0m\n\u001b[1;32m     11\u001b[0m \u001b[39m# Integrate the orbit of the progenitor\u001b[39;00m\n\u001b[1;32m     12\u001b[0m integrator \u001b[39m=\u001b[39m LeapfrogIntegrator(nfw_potential)\n\u001b[0;32m---> 13\u001b[0m orbit \u001b[39m=\u001b[39m integrator\u001b[39m.\u001b[39;49mrun(progenitor, dt\u001b[39m=\u001b[39;49m\u001b[39m1\u001b[39;49m\u001b[39m*\u001b[39;49mu\u001b[39m.\u001b[39;49mMyr, n_steps\u001b[39m=\u001b[39;49m\u001b[39m1000\u001b[39;49m)\n\u001b[1;32m     15\u001b[0m \u001b[39m# Simulate the stream\u001b[39;00m\n\u001b[1;32m     16\u001b[0m mockstream_generator \u001b[39m=\u001b[39m MockStream(integrator\u001b[39m=\u001b[39mintegrator, progenitor_potential\u001b[39m=\u001b[39mnfw_potential)\n",
      "File \u001b[0;32m~/miniforge3/envs/Ant/lib/python3.11/site-packages/gala/integrate/pyintegrators/leapfrog.py:138\u001b[0m, in \u001b[0;36mLeapfrogIntegrator.run\u001b[0;34m(self, w0, mmap, **time_spec)\u001b[0m\n\u001b[1;32m    135\u001b[0m \u001b[39mdef\u001b[39;00m \u001b[39mrun\u001b[39m(\u001b[39mself\u001b[39m, w0, mmap\u001b[39m=\u001b[39m\u001b[39mNone\u001b[39;00m, \u001b[39m*\u001b[39m\u001b[39m*\u001b[39mtime_spec):\n\u001b[1;32m    136\u001b[0m \n\u001b[1;32m    137\u001b[0m     \u001b[39m# generate the array of times\u001b[39;00m\n\u001b[0;32m--> 138\u001b[0m     times \u001b[39m=\u001b[39m parse_time_specification(\u001b[39mself\u001b[39;49m\u001b[39m.\u001b[39;49m_func_units, \u001b[39m*\u001b[39;49m\u001b[39m*\u001b[39;49mtime_spec)\n\u001b[1;32m    139\u001b[0m     n_steps \u001b[39m=\u001b[39m \u001b[39mlen\u001b[39m(times) \u001b[39m-\u001b[39m \u001b[39m1\u001b[39m\n\u001b[1;32m    140\u001b[0m     dt \u001b[39m=\u001b[39m times[\u001b[39m1\u001b[39m] \u001b[39m-\u001b[39m times[\u001b[39m0\u001b[39m]\n",
      "File \u001b[0;32m~/miniforge3/envs/Ant/lib/python3.11/site-packages/gala/integrate/timespec.py:34\u001b[0m, in \u001b[0;36mparse_time_specification\u001b[0;34m(units, dt, n_steps, t1, t2, t)\u001b[0m\n\u001b[1;32m     31\u001b[0m     n_steps \u001b[39m=\u001b[39m \u001b[39mint\u001b[39m(n_steps)\n\u001b[1;32m     33\u001b[0m \u001b[39mif\u001b[39;00m \u001b[39mhasattr\u001b[39m(dt, \u001b[39m\"\u001b[39m\u001b[39munit\u001b[39m\u001b[39m\"\u001b[39m):\n\u001b[0;32m---> 34\u001b[0m     dt \u001b[39m=\u001b[39m dt\u001b[39m.\u001b[39;49mdecompose(units)\u001b[39m.\u001b[39mvalue\n\u001b[1;32m     36\u001b[0m \u001b[39mif\u001b[39;00m \u001b[39mhasattr\u001b[39m(t1, \u001b[39m\"\u001b[39m\u001b[39munit\u001b[39m\u001b[39m\"\u001b[39m):\n\u001b[1;32m     37\u001b[0m     t1 \u001b[39m=\u001b[39m t1\u001b[39m.\u001b[39mdecompose(units)\u001b[39m.\u001b[39mvalue\n",
      "File \u001b[0;32m~/miniforge3/envs/Ant/lib/python3.11/site-packages/astropy/units/quantity.py:1570\u001b[0m, in \u001b[0;36mQuantity.decompose\u001b[0;34m(self, bases)\u001b[0m\n\u001b[1;32m   1550\u001b[0m \u001b[39mdef\u001b[39;00m \u001b[39mdecompose\u001b[39m(\u001b[39mself\u001b[39m, bases\u001b[39m=\u001b[39m[]):\n\u001b[1;32m   1551\u001b[0m \u001b[39m    \u001b[39m\u001b[39m\"\"\"\u001b[39;00m\n\u001b[1;32m   1552\u001b[0m \u001b[39m    Generates a new `Quantity` with the units\u001b[39;00m\n\u001b[1;32m   1553\u001b[0m \u001b[39m    decomposed. Decomposed units have only irreducible units in\u001b[39;00m\n\u001b[0;32m   (...)\u001b[0m\n\u001b[1;32m   1568\u001b[0m \u001b[39m        A new object equal to this quantity with units decomposed.\u001b[39;00m\n\u001b[1;32m   1569\u001b[0m \u001b[39m    \"\"\"\u001b[39;00m\n\u001b[0;32m-> 1570\u001b[0m     \u001b[39mreturn\u001b[39;00m \u001b[39mself\u001b[39;49m\u001b[39m.\u001b[39;49m_decompose(\u001b[39mFalse\u001b[39;49;00m, bases\u001b[39m=\u001b[39;49mbases)\n",
      "File \u001b[0;32m~/miniforge3/envs/Ant/lib/python3.11/site-packages/astropy/units/quantity.py:1598\u001b[0m, in \u001b[0;36mQuantity._decompose\u001b[0;34m(self, allowscaledunits, bases)\u001b[0m\n\u001b[1;32m   1572\u001b[0m \u001b[39mdef\u001b[39;00m \u001b[39m_decompose\u001b[39m(\u001b[39mself\u001b[39m, allowscaledunits\u001b[39m=\u001b[39m\u001b[39mFalse\u001b[39;00m, bases\u001b[39m=\u001b[39m[]):\n\u001b[1;32m   1573\u001b[0m \u001b[39m    \u001b[39m\u001b[39m\"\"\"\u001b[39;00m\n\u001b[1;32m   1574\u001b[0m \u001b[39m    Generates a new `Quantity` with the units decomposed. Decomposed\u001b[39;00m\n\u001b[1;32m   1575\u001b[0m \u001b[39m    units have only irreducible units in them (see\u001b[39;00m\n\u001b[0;32m   (...)\u001b[0m\n\u001b[1;32m   1596\u001b[0m \n\u001b[1;32m   1597\u001b[0m \u001b[39m    \"\"\"\u001b[39;00m\n\u001b[0;32m-> 1598\u001b[0m     new_unit \u001b[39m=\u001b[39m \u001b[39mself\u001b[39;49m\u001b[39m.\u001b[39;49munit\u001b[39m.\u001b[39;49mdecompose(bases\u001b[39m=\u001b[39;49mbases)\n\u001b[1;32m   1600\u001b[0m     \u001b[39m# Be careful here because self.value usually is a view of self;\u001b[39;00m\n\u001b[1;32m   1601\u001b[0m     \u001b[39m# be sure that the original value is not being modified.\u001b[39;00m\n\u001b[1;32m   1602\u001b[0m     \u001b[39mif\u001b[39;00m \u001b[39mnot\u001b[39;00m allowscaledunits \u001b[39mand\u001b[39;00m \u001b[39mhasattr\u001b[39m(new_unit, \u001b[39m\"\u001b[39m\u001b[39mscale\u001b[39m\u001b[39m\"\u001b[39m):\n",
      "File \u001b[0;32m~/miniforge3/envs/Ant/lib/python3.11/site-packages/astropy/units/core.py:2243\u001b[0m, in \u001b[0;36mUnit.decompose\u001b[0;34m(self, bases)\u001b[0m\n\u001b[1;32m   2242\u001b[0m \u001b[39mdef\u001b[39;00m \u001b[39mdecompose\u001b[39m(\u001b[39mself\u001b[39m, bases\u001b[39m=\u001b[39m\u001b[39mset\u001b[39m()):\n\u001b[0;32m-> 2243\u001b[0m     \u001b[39mreturn\u001b[39;00m \u001b[39mself\u001b[39;49m\u001b[39m.\u001b[39;49m_represents\u001b[39m.\u001b[39;49mdecompose(bases\u001b[39m=\u001b[39;49mbases)\n",
      "File \u001b[0;32m~/miniforge3/envs/Ant/lib/python3.11/site-packages/astropy/units/core.py:2442\u001b[0m, in \u001b[0;36mCompositeUnit.decompose\u001b[0;34m(self, bases)\u001b[0m\n\u001b[1;32m   2439\u001b[0m         \u001b[39mself\u001b[39m\u001b[39m.\u001b[39m_decomposed_cache \u001b[39m=\u001b[39m \u001b[39mself\u001b[39m\n\u001b[1;32m   2440\u001b[0m     \u001b[39mreturn\u001b[39;00m \u001b[39mself\u001b[39m\n\u001b[0;32m-> 2442\u001b[0m x \u001b[39m=\u001b[39m CompositeUnit(\n\u001b[1;32m   2443\u001b[0m     \u001b[39mself\u001b[39;49m\u001b[39m.\u001b[39;49mscale, \u001b[39mself\u001b[39;49m\u001b[39m.\u001b[39;49mbases, \u001b[39mself\u001b[39;49m\u001b[39m.\u001b[39;49mpowers, decompose\u001b[39m=\u001b[39;49m\u001b[39mTrue\u001b[39;49;00m, decompose_bases\u001b[39m=\u001b[39;49mbases\n\u001b[1;32m   2444\u001b[0m )\n\u001b[1;32m   2445\u001b[0m \u001b[39mif\u001b[39;00m \u001b[39mlen\u001b[39m(bases) \u001b[39m==\u001b[39m \u001b[39m0\u001b[39m:\n\u001b[1;32m   2446\u001b[0m     \u001b[39mself\u001b[39m\u001b[39m.\u001b[39m_decomposed_cache \u001b[39m=\u001b[39m x\n",
      "File \u001b[0;32m~/miniforge3/envs/Ant/lib/python3.11/site-packages/astropy/units/core.py:2349\u001b[0m, in \u001b[0;36mCompositeUnit.__init__\u001b[0;34m(self, scale, bases, powers, decompose, decompose_bases, _error_check)\u001b[0m\n\u001b[1;32m   2347\u001b[0m \u001b[39mself\u001b[39m\u001b[39m.\u001b[39m_bases \u001b[39m=\u001b[39m bases\n\u001b[1;32m   2348\u001b[0m \u001b[39mself\u001b[39m\u001b[39m.\u001b[39m_powers \u001b[39m=\u001b[39m powers\n\u001b[0;32m-> 2349\u001b[0m \u001b[39mself\u001b[39;49m\u001b[39m.\u001b[39;49m_expand_and_gather(decompose\u001b[39m=\u001b[39;49mdecompose, bases\u001b[39m=\u001b[39;49mdecompose_bases)\n",
      "File \u001b[0;32m~/miniforge3/envs/Ant/lib/python3.11/site-packages/astropy/units/core.py:2405\u001b[0m, in \u001b[0;36mCompositeUnit._expand_and_gather\u001b[0;34m(self, decompose, bases)\u001b[0m\n\u001b[1;32m   2403\u001b[0m \u001b[39mfor\u001b[39;00m b, p \u001b[39min\u001b[39;00m \u001b[39mzip\u001b[39m(\u001b[39mself\u001b[39m\u001b[39m.\u001b[39m_bases, \u001b[39mself\u001b[39m\u001b[39m.\u001b[39m_powers):\n\u001b[1;32m   2404\u001b[0m     \u001b[39mif\u001b[39;00m decompose \u001b[39mand\u001b[39;00m b \u001b[39mnot\u001b[39;00m \u001b[39min\u001b[39;00m bases:\n\u001b[0;32m-> 2405\u001b[0m         b \u001b[39m=\u001b[39m b\u001b[39m.\u001b[39;49mdecompose(bases\u001b[39m=\u001b[39;49mbases)\n\u001b[1;32m   2407\u001b[0m     \u001b[39mif\u001b[39;00m \u001b[39misinstance\u001b[39m(b, CompositeUnit):\n\u001b[1;32m   2408\u001b[0m         scale \u001b[39m*\u001b[39m\u001b[39m=\u001b[39m b\u001b[39m.\u001b[39m_scale\u001b[39m*\u001b[39m\u001b[39m*\u001b[39mp\n",
      "File \u001b[0;32m~/miniforge3/envs/Ant/lib/python3.11/site-packages/astropy/units/core.py:2243\u001b[0m, in \u001b[0;36mUnit.decompose\u001b[0;34m(self, bases)\u001b[0m\n\u001b[1;32m   2242\u001b[0m \u001b[39mdef\u001b[39;00m \u001b[39mdecompose\u001b[39m(\u001b[39mself\u001b[39m, bases\u001b[39m=\u001b[39m\u001b[39mset\u001b[39m()):\n\u001b[0;32m-> 2243\u001b[0m     \u001b[39mreturn\u001b[39;00m \u001b[39mself\u001b[39;49m\u001b[39m.\u001b[39;49m_represents\u001b[39m.\u001b[39;49mdecompose(bases\u001b[39m=\u001b[39;49mbases)\n",
      "File \u001b[0;32m~/miniforge3/envs/Ant/lib/python3.11/site-packages/astropy/units/core.py:2442\u001b[0m, in \u001b[0;36mCompositeUnit.decompose\u001b[0;34m(self, bases)\u001b[0m\n\u001b[1;32m   2439\u001b[0m         \u001b[39mself\u001b[39m\u001b[39m.\u001b[39m_decomposed_cache \u001b[39m=\u001b[39m \u001b[39mself\u001b[39m\n\u001b[1;32m   2440\u001b[0m     \u001b[39mreturn\u001b[39;00m \u001b[39mself\u001b[39m\n\u001b[0;32m-> 2442\u001b[0m x \u001b[39m=\u001b[39m CompositeUnit(\n\u001b[1;32m   2443\u001b[0m     \u001b[39mself\u001b[39;49m\u001b[39m.\u001b[39;49mscale, \u001b[39mself\u001b[39;49m\u001b[39m.\u001b[39;49mbases, \u001b[39mself\u001b[39;49m\u001b[39m.\u001b[39;49mpowers, decompose\u001b[39m=\u001b[39;49m\u001b[39mTrue\u001b[39;49;00m, decompose_bases\u001b[39m=\u001b[39;49mbases\n\u001b[1;32m   2444\u001b[0m )\n\u001b[1;32m   2445\u001b[0m \u001b[39mif\u001b[39;00m \u001b[39mlen\u001b[39m(bases) \u001b[39m==\u001b[39m \u001b[39m0\u001b[39m:\n\u001b[1;32m   2446\u001b[0m     \u001b[39mself\u001b[39m\u001b[39m.\u001b[39m_decomposed_cache \u001b[39m=\u001b[39m x\n",
      "File \u001b[0;32m~/miniforge3/envs/Ant/lib/python3.11/site-packages/astropy/units/core.py:2349\u001b[0m, in \u001b[0;36mCompositeUnit.__init__\u001b[0;34m(self, scale, bases, powers, decompose, decompose_bases, _error_check)\u001b[0m\n\u001b[1;32m   2347\u001b[0m \u001b[39mself\u001b[39m\u001b[39m.\u001b[39m_bases \u001b[39m=\u001b[39m bases\n\u001b[1;32m   2348\u001b[0m \u001b[39mself\u001b[39m\u001b[39m.\u001b[39m_powers \u001b[39m=\u001b[39m powers\n\u001b[0;32m-> 2349\u001b[0m \u001b[39mself\u001b[39;49m\u001b[39m.\u001b[39;49m_expand_and_gather(decompose\u001b[39m=\u001b[39;49mdecompose, bases\u001b[39m=\u001b[39;49mdecompose_bases)\n",
      "File \u001b[0;32m~/miniforge3/envs/Ant/lib/python3.11/site-packages/astropy/units/core.py:2405\u001b[0m, in \u001b[0;36mCompositeUnit._expand_and_gather\u001b[0;34m(self, decompose, bases)\u001b[0m\n\u001b[1;32m   2403\u001b[0m \u001b[39mfor\u001b[39;00m b, p \u001b[39min\u001b[39;00m \u001b[39mzip\u001b[39m(\u001b[39mself\u001b[39m\u001b[39m.\u001b[39m_bases, \u001b[39mself\u001b[39m\u001b[39m.\u001b[39m_powers):\n\u001b[1;32m   2404\u001b[0m     \u001b[39mif\u001b[39;00m decompose \u001b[39mand\u001b[39;00m b \u001b[39mnot\u001b[39;00m \u001b[39min\u001b[39;00m bases:\n\u001b[0;32m-> 2405\u001b[0m         b \u001b[39m=\u001b[39m b\u001b[39m.\u001b[39;49mdecompose(bases\u001b[39m=\u001b[39;49mbases)\n\u001b[1;32m   2407\u001b[0m     \u001b[39mif\u001b[39;00m \u001b[39misinstance\u001b[39m(b, CompositeUnit):\n\u001b[1;32m   2408\u001b[0m         scale \u001b[39m*\u001b[39m\u001b[39m=\u001b[39m b\u001b[39m.\u001b[39m_scale\u001b[39m*\u001b[39m\u001b[39m*\u001b[39mp\n",
      "    \u001b[0;31m[... skipping similar frames: CompositeUnit.__init__ at line 2349 (1 times), CompositeUnit._expand_and_gather at line 2405 (1 times), Unit.decompose at line 2243 (1 times), CompositeUnit.decompose at line 2442 (1 times)]\u001b[0m\n",
      "File \u001b[0;32m~/miniforge3/envs/Ant/lib/python3.11/site-packages/astropy/units/core.py:2243\u001b[0m, in \u001b[0;36mUnit.decompose\u001b[0;34m(self, bases)\u001b[0m\n\u001b[1;32m   2242\u001b[0m \u001b[39mdef\u001b[39;00m \u001b[39mdecompose\u001b[39m(\u001b[39mself\u001b[39m, bases\u001b[39m=\u001b[39m\u001b[39mset\u001b[39m()):\n\u001b[0;32m-> 2243\u001b[0m     \u001b[39mreturn\u001b[39;00m \u001b[39mself\u001b[39;49m\u001b[39m.\u001b[39;49m_represents\u001b[39m.\u001b[39;49mdecompose(bases\u001b[39m=\u001b[39;49mbases)\n",
      "File \u001b[0;32m~/miniforge3/envs/Ant/lib/python3.11/site-packages/astropy/units/core.py:2442\u001b[0m, in \u001b[0;36mCompositeUnit.decompose\u001b[0;34m(self, bases)\u001b[0m\n\u001b[1;32m   2439\u001b[0m         \u001b[39mself\u001b[39m\u001b[39m.\u001b[39m_decomposed_cache \u001b[39m=\u001b[39m \u001b[39mself\u001b[39m\n\u001b[1;32m   2440\u001b[0m     \u001b[39mreturn\u001b[39;00m \u001b[39mself\u001b[39m\n\u001b[0;32m-> 2442\u001b[0m x \u001b[39m=\u001b[39m CompositeUnit(\n\u001b[1;32m   2443\u001b[0m     \u001b[39mself\u001b[39;49m\u001b[39m.\u001b[39;49mscale, \u001b[39mself\u001b[39;49m\u001b[39m.\u001b[39;49mbases, \u001b[39mself\u001b[39;49m\u001b[39m.\u001b[39;49mpowers, decompose\u001b[39m=\u001b[39;49m\u001b[39mTrue\u001b[39;49;00m, decompose_bases\u001b[39m=\u001b[39;49mbases\n\u001b[1;32m   2444\u001b[0m )\n\u001b[1;32m   2445\u001b[0m \u001b[39mif\u001b[39;00m \u001b[39mlen\u001b[39m(bases) \u001b[39m==\u001b[39m \u001b[39m0\u001b[39m:\n\u001b[1;32m   2446\u001b[0m     \u001b[39mself\u001b[39m\u001b[39m.\u001b[39m_decomposed_cache \u001b[39m=\u001b[39m x\n",
      "File \u001b[0;32m~/miniforge3/envs/Ant/lib/python3.11/site-packages/astropy/units/core.py:2349\u001b[0m, in \u001b[0;36mCompositeUnit.__init__\u001b[0;34m(self, scale, bases, powers, decompose, decompose_bases, _error_check)\u001b[0m\n\u001b[1;32m   2347\u001b[0m \u001b[39mself\u001b[39m\u001b[39m.\u001b[39m_bases \u001b[39m=\u001b[39m bases\n\u001b[1;32m   2348\u001b[0m \u001b[39mself\u001b[39m\u001b[39m.\u001b[39m_powers \u001b[39m=\u001b[39m powers\n\u001b[0;32m-> 2349\u001b[0m \u001b[39mself\u001b[39;49m\u001b[39m.\u001b[39;49m_expand_and_gather(decompose\u001b[39m=\u001b[39;49mdecompose, bases\u001b[39m=\u001b[39;49mdecompose_bases)\n",
      "File \u001b[0;32m~/miniforge3/envs/Ant/lib/python3.11/site-packages/astropy/units/core.py:2405\u001b[0m, in \u001b[0;36mCompositeUnit._expand_and_gather\u001b[0;34m(self, decompose, bases)\u001b[0m\n\u001b[1;32m   2403\u001b[0m \u001b[39mfor\u001b[39;00m b, p \u001b[39min\u001b[39;00m \u001b[39mzip\u001b[39m(\u001b[39mself\u001b[39m\u001b[39m.\u001b[39m_bases, \u001b[39mself\u001b[39m\u001b[39m.\u001b[39m_powers):\n\u001b[1;32m   2404\u001b[0m     \u001b[39mif\u001b[39;00m decompose \u001b[39mand\u001b[39;00m b \u001b[39mnot\u001b[39;00m \u001b[39min\u001b[39;00m bases:\n\u001b[0;32m-> 2405\u001b[0m         b \u001b[39m=\u001b[39m b\u001b[39m.\u001b[39;49mdecompose(bases\u001b[39m=\u001b[39;49mbases)\n\u001b[1;32m   2407\u001b[0m     \u001b[39mif\u001b[39;00m \u001b[39misinstance\u001b[39m(b, CompositeUnit):\n\u001b[1;32m   2408\u001b[0m         scale \u001b[39m*\u001b[39m\u001b[39m=\u001b[39m b\u001b[39m.\u001b[39m_scale\u001b[39m*\u001b[39m\u001b[39m*\u001b[39mp\n",
      "File \u001b[0;32m~/miniforge3/envs/Ant/lib/python3.11/site-packages/astropy/units/core.py:1953\u001b[0m, in \u001b[0;36mIrreducibleUnit.decompose\u001b[0;34m(self, bases)\u001b[0m\n\u001b[1;32m   1950\u001b[0m             \u001b[39melse\u001b[39;00m:\n\u001b[1;32m   1951\u001b[0m                 \u001b[39mreturn\u001b[39;00m CompositeUnit(scale, [base], [\u001b[39m1\u001b[39m], _error_check\u001b[39m=\u001b[39m\u001b[39mFalse\u001b[39;00m)\n\u001b[0;32m-> 1953\u001b[0m     \u001b[39mraise\u001b[39;00m UnitConversionError(\n\u001b[1;32m   1954\u001b[0m         \u001b[39mf\u001b[39m\u001b[39m\"\u001b[39m\u001b[39mUnit \u001b[39m\u001b[39m{\u001b[39;00m\u001b[39mself\u001b[39m\u001b[39m}\u001b[39;00m\u001b[39m can not be decomposed into the requested bases\u001b[39m\u001b[39m\"\u001b[39m\n\u001b[1;32m   1955\u001b[0m     )\n\u001b[1;32m   1957\u001b[0m \u001b[39mreturn\u001b[39;00m \u001b[39mself\u001b[39m\n",
      "\u001b[0;31mUnitConversionError\u001b[0m: Unit s can not be decomposed into the requested bases"
     ]
    }
   ],
   "source": [
    "# Define the NFW potential\n",
    "mass = 1e12 * u.Msun # Mass of the dark matter halo\n",
    "rs = 20 * u.kpc # Scale radius of the NFW profile\n",
    "nfw_potential = NFWPotential(m=mass, r_s=rs, units=galactic)\n",
    "\n",
    "# Initial conditions for the progenitor\n",
    "pos = [20, 0, 0] * u.kpc # Initial position\n",
    "vel = [0, 220, 0] * u.km / u.s # Initial velocity\n",
    "progenitor = PhaseSpacePosition(pos=pos, vel=vel)\n",
    "\n",
    "# Integrate the orbit of the progenitor\n",
    "integrator = LeapfrogIntegrator(nfw_potential)\n",
    "orbit = integrator.run(progenitor, dt=1*u.Myr, n_steps=1000)\n",
    "\n",
    "# Simulate the stream\n",
    "mockstream_generator = MockStream(integrator=integrator, progenitor_potential=nfw_potential)\n",
    "stream, _ = mockstream_generator.run(progenitor, orbit, release_every=10)"
   ]
  },
  {
   "cell_type": "code",
   "execution_count": 12,
   "metadata": {},
   "outputs": [
    {
     "ename": "UnitConversionError",
     "evalue": "Unit m can not be decomposed into the requested bases",
     "output_type": "error",
     "traceback": [
      "\u001b[0;31m---------------------------------------------------------------------------\u001b[0m",
      "\u001b[0;31mUnitConversionError\u001b[0m                       Traceback (most recent call last)",
      "Cell \u001b[0;32mIn[12], line 23\u001b[0m\n\u001b[1;32m     20\u001b[0m n_steps \u001b[39m=\u001b[39m \u001b[39m1000\u001b[39m \n\u001b[1;32m     22\u001b[0m \u001b[39m# Perform the integration\u001b[39;00m\n\u001b[0;32m---> 23\u001b[0m orbit \u001b[39m=\u001b[39m integrator\u001b[39m.\u001b[39;49mrun(progenitor, dt\u001b[39m=\u001b[39;49mdt, n_steps\u001b[39m=\u001b[39;49mn_steps)\n",
      "File \u001b[0;32m~/miniforge3/envs/Ant/lib/python3.11/site-packages/gala/integrate/pyintegrators/leapfrog.py:142\u001b[0m, in \u001b[0;36mLeapfrogIntegrator.run\u001b[0;34m(self, w0, mmap, **time_spec)\u001b[0m\n\u001b[1;32m    139\u001b[0m n_steps \u001b[39m=\u001b[39m \u001b[39mlen\u001b[39m(times) \u001b[39m-\u001b[39m \u001b[39m1\u001b[39m\n\u001b[1;32m    140\u001b[0m dt \u001b[39m=\u001b[39m times[\u001b[39m1\u001b[39m] \u001b[39m-\u001b[39m times[\u001b[39m0\u001b[39m]\n\u001b[0;32m--> 142\u001b[0m w0_obj, w0, ws \u001b[39m=\u001b[39m \u001b[39mself\u001b[39;49m\u001b[39m.\u001b[39;49m_prepare_ws(w0, mmap, n_steps)\n\u001b[1;32m    143\u001b[0m x0 \u001b[39m=\u001b[39m w0[:\u001b[39mself\u001b[39m\u001b[39m.\u001b[39mndim]\n\u001b[1;32m    145\u001b[0m \u001b[39m# prime the integrator so velocity is offset from coordinate by a\u001b[39;00m\n\u001b[1;32m    146\u001b[0m \u001b[39m#   half timestep\u001b[39;00m\n",
      "File \u001b[0;32m~/miniforge3/envs/Ant/lib/python3.11/site-packages/gala/integrate/core.py:66\u001b[0m, in \u001b[0;36mIntegrator._prepare_ws\u001b[0;34m(self, w0, mmap, n_steps)\u001b[0m\n\u001b[1;32m     63\u001b[0m \u001b[39mif\u001b[39;00m \u001b[39mnot\u001b[39;00m \u001b[39misinstance\u001b[39m(w0, PhaseSpacePosition):\n\u001b[1;32m     64\u001b[0m     w0 \u001b[39m=\u001b[39m PhaseSpacePosition\u001b[39m.\u001b[39mfrom_w(w0)\n\u001b[0;32m---> 66\u001b[0m arr_w0 \u001b[39m=\u001b[39m w0\u001b[39m.\u001b[39;49mw(\u001b[39mself\u001b[39;49m\u001b[39m.\u001b[39;49m_func_units)\n\u001b[1;32m     68\u001b[0m \u001b[39mself\u001b[39m\u001b[39m.\u001b[39mndim, \u001b[39mself\u001b[39m\u001b[39m.\u001b[39mnorbits \u001b[39m=\u001b[39m arr_w0\u001b[39m.\u001b[39mshape\n\u001b[1;32m     69\u001b[0m \u001b[39mself\u001b[39m\u001b[39m.\u001b[39mndim \u001b[39m=\u001b[39m \u001b[39mself\u001b[39m\u001b[39m.\u001b[39mndim \u001b[39m/\u001b[39m\u001b[39m/\u001b[39m \u001b[39m2\u001b[39m\n",
      "File \u001b[0;32m~/miniforge3/envs/Ant/lib/python3.11/site-packages/gala/dynamics/core.py:473\u001b[0m, in \u001b[0;36mPhaseSpacePosition.w\u001b[0;34m(self, units)\u001b[0m\n\u001b[1;32m    470\u001b[0m \u001b[39melif\u001b[39;00m units \u001b[39mis\u001b[39;00m \u001b[39mNone\u001b[39;00m:\n\u001b[1;32m    471\u001b[0m     \u001b[39mraise\u001b[39;00m \u001b[39mValueError\u001b[39;00m(\u001b[39m\"\u001b[39m\u001b[39mA UnitSystem must be provided.\u001b[39m\u001b[39m\"\u001b[39m)\n\u001b[0;32m--> 473\u001b[0m x \u001b[39m=\u001b[39m xyz\u001b[39m.\u001b[39;49mdecompose(units)\u001b[39m.\u001b[39mvalue\n\u001b[1;32m    474\u001b[0m \u001b[39mif\u001b[39;00m x\u001b[39m.\u001b[39mndim \u001b[39m<\u001b[39m \u001b[39m2\u001b[39m:\n\u001b[1;32m    475\u001b[0m     x \u001b[39m=\u001b[39m atleast_2d(x, insert_axis\u001b[39m=\u001b[39m\u001b[39m1\u001b[39m)\n",
      "File \u001b[0;32m~/miniforge3/envs/Ant/lib/python3.11/site-packages/astropy/units/quantity.py:1570\u001b[0m, in \u001b[0;36mQuantity.decompose\u001b[0;34m(self, bases)\u001b[0m\n\u001b[1;32m   1550\u001b[0m \u001b[39mdef\u001b[39;00m \u001b[39mdecompose\u001b[39m(\u001b[39mself\u001b[39m, bases\u001b[39m=\u001b[39m[]):\n\u001b[1;32m   1551\u001b[0m \u001b[39m    \u001b[39m\u001b[39m\"\"\"\u001b[39;00m\n\u001b[1;32m   1552\u001b[0m \u001b[39m    Generates a new `Quantity` with the units\u001b[39;00m\n\u001b[1;32m   1553\u001b[0m \u001b[39m    decomposed. Decomposed units have only irreducible units in\u001b[39;00m\n\u001b[0;32m   (...)\u001b[0m\n\u001b[1;32m   1568\u001b[0m \u001b[39m        A new object equal to this quantity with units decomposed.\u001b[39;00m\n\u001b[1;32m   1569\u001b[0m \u001b[39m    \"\"\"\u001b[39;00m\n\u001b[0;32m-> 1570\u001b[0m     \u001b[39mreturn\u001b[39;00m \u001b[39mself\u001b[39;49m\u001b[39m.\u001b[39;49m_decompose(\u001b[39mFalse\u001b[39;49;00m, bases\u001b[39m=\u001b[39;49mbases)\n",
      "File \u001b[0;32m~/miniforge3/envs/Ant/lib/python3.11/site-packages/astropy/units/quantity.py:1598\u001b[0m, in \u001b[0;36mQuantity._decompose\u001b[0;34m(self, allowscaledunits, bases)\u001b[0m\n\u001b[1;32m   1572\u001b[0m \u001b[39mdef\u001b[39;00m \u001b[39m_decompose\u001b[39m(\u001b[39mself\u001b[39m, allowscaledunits\u001b[39m=\u001b[39m\u001b[39mFalse\u001b[39;00m, bases\u001b[39m=\u001b[39m[]):\n\u001b[1;32m   1573\u001b[0m \u001b[39m    \u001b[39m\u001b[39m\"\"\"\u001b[39;00m\n\u001b[1;32m   1574\u001b[0m \u001b[39m    Generates a new `Quantity` with the units decomposed. Decomposed\u001b[39;00m\n\u001b[1;32m   1575\u001b[0m \u001b[39m    units have only irreducible units in them (see\u001b[39;00m\n\u001b[0;32m   (...)\u001b[0m\n\u001b[1;32m   1596\u001b[0m \n\u001b[1;32m   1597\u001b[0m \u001b[39m    \"\"\"\u001b[39;00m\n\u001b[0;32m-> 1598\u001b[0m     new_unit \u001b[39m=\u001b[39m \u001b[39mself\u001b[39;49m\u001b[39m.\u001b[39;49munit\u001b[39m.\u001b[39;49mdecompose(bases\u001b[39m=\u001b[39;49mbases)\n\u001b[1;32m   1600\u001b[0m     \u001b[39m# Be careful here because self.value usually is a view of self;\u001b[39;00m\n\u001b[1;32m   1601\u001b[0m     \u001b[39m# be sure that the original value is not being modified.\u001b[39;00m\n\u001b[1;32m   1602\u001b[0m     \u001b[39mif\u001b[39;00m \u001b[39mnot\u001b[39;00m allowscaledunits \u001b[39mand\u001b[39;00m \u001b[39mhasattr\u001b[39m(new_unit, \u001b[39m\"\u001b[39m\u001b[39mscale\u001b[39m\u001b[39m\"\u001b[39m):\n",
      "File \u001b[0;32m~/miniforge3/envs/Ant/lib/python3.11/site-packages/astropy/units/core.py:2243\u001b[0m, in \u001b[0;36mUnit.decompose\u001b[0;34m(self, bases)\u001b[0m\n\u001b[1;32m   2242\u001b[0m \u001b[39mdef\u001b[39;00m \u001b[39mdecompose\u001b[39m(\u001b[39mself\u001b[39m, bases\u001b[39m=\u001b[39m\u001b[39mset\u001b[39m()):\n\u001b[0;32m-> 2243\u001b[0m     \u001b[39mreturn\u001b[39;00m \u001b[39mself\u001b[39;49m\u001b[39m.\u001b[39;49m_represents\u001b[39m.\u001b[39;49mdecompose(bases\u001b[39m=\u001b[39;49mbases)\n",
      "File \u001b[0;32m~/miniforge3/envs/Ant/lib/python3.11/site-packages/astropy/units/core.py:2442\u001b[0m, in \u001b[0;36mCompositeUnit.decompose\u001b[0;34m(self, bases)\u001b[0m\n\u001b[1;32m   2439\u001b[0m         \u001b[39mself\u001b[39m\u001b[39m.\u001b[39m_decomposed_cache \u001b[39m=\u001b[39m \u001b[39mself\u001b[39m\n\u001b[1;32m   2440\u001b[0m     \u001b[39mreturn\u001b[39;00m \u001b[39mself\u001b[39m\n\u001b[0;32m-> 2442\u001b[0m x \u001b[39m=\u001b[39m CompositeUnit(\n\u001b[1;32m   2443\u001b[0m     \u001b[39mself\u001b[39;49m\u001b[39m.\u001b[39;49mscale, \u001b[39mself\u001b[39;49m\u001b[39m.\u001b[39;49mbases, \u001b[39mself\u001b[39;49m\u001b[39m.\u001b[39;49mpowers, decompose\u001b[39m=\u001b[39;49m\u001b[39mTrue\u001b[39;49;00m, decompose_bases\u001b[39m=\u001b[39;49mbases\n\u001b[1;32m   2444\u001b[0m )\n\u001b[1;32m   2445\u001b[0m \u001b[39mif\u001b[39;00m \u001b[39mlen\u001b[39m(bases) \u001b[39m==\u001b[39m \u001b[39m0\u001b[39m:\n\u001b[1;32m   2446\u001b[0m     \u001b[39mself\u001b[39m\u001b[39m.\u001b[39m_decomposed_cache \u001b[39m=\u001b[39m x\n",
      "File \u001b[0;32m~/miniforge3/envs/Ant/lib/python3.11/site-packages/astropy/units/core.py:2349\u001b[0m, in \u001b[0;36mCompositeUnit.__init__\u001b[0;34m(self, scale, bases, powers, decompose, decompose_bases, _error_check)\u001b[0m\n\u001b[1;32m   2347\u001b[0m \u001b[39mself\u001b[39m\u001b[39m.\u001b[39m_bases \u001b[39m=\u001b[39m bases\n\u001b[1;32m   2348\u001b[0m \u001b[39mself\u001b[39m\u001b[39m.\u001b[39m_powers \u001b[39m=\u001b[39m powers\n\u001b[0;32m-> 2349\u001b[0m \u001b[39mself\u001b[39;49m\u001b[39m.\u001b[39;49m_expand_and_gather(decompose\u001b[39m=\u001b[39;49mdecompose, bases\u001b[39m=\u001b[39;49mdecompose_bases)\n",
      "File \u001b[0;32m~/miniforge3/envs/Ant/lib/python3.11/site-packages/astropy/units/core.py:2405\u001b[0m, in \u001b[0;36mCompositeUnit._expand_and_gather\u001b[0;34m(self, decompose, bases)\u001b[0m\n\u001b[1;32m   2403\u001b[0m \u001b[39mfor\u001b[39;00m b, p \u001b[39min\u001b[39;00m \u001b[39mzip\u001b[39m(\u001b[39mself\u001b[39m\u001b[39m.\u001b[39m_bases, \u001b[39mself\u001b[39m\u001b[39m.\u001b[39m_powers):\n\u001b[1;32m   2404\u001b[0m     \u001b[39mif\u001b[39;00m decompose \u001b[39mand\u001b[39;00m b \u001b[39mnot\u001b[39;00m \u001b[39min\u001b[39;00m bases:\n\u001b[0;32m-> 2405\u001b[0m         b \u001b[39m=\u001b[39m b\u001b[39m.\u001b[39;49mdecompose(bases\u001b[39m=\u001b[39;49mbases)\n\u001b[1;32m   2407\u001b[0m     \u001b[39mif\u001b[39;00m \u001b[39misinstance\u001b[39m(b, CompositeUnit):\n\u001b[1;32m   2408\u001b[0m         scale \u001b[39m*\u001b[39m\u001b[39m=\u001b[39m b\u001b[39m.\u001b[39m_scale\u001b[39m*\u001b[39m\u001b[39m*\u001b[39mp\n",
      "File \u001b[0;32m~/miniforge3/envs/Ant/lib/python3.11/site-packages/astropy/units/core.py:2243\u001b[0m, in \u001b[0;36mUnit.decompose\u001b[0;34m(self, bases)\u001b[0m\n\u001b[1;32m   2242\u001b[0m \u001b[39mdef\u001b[39;00m \u001b[39mdecompose\u001b[39m(\u001b[39mself\u001b[39m, bases\u001b[39m=\u001b[39m\u001b[39mset\u001b[39m()):\n\u001b[0;32m-> 2243\u001b[0m     \u001b[39mreturn\u001b[39;00m \u001b[39mself\u001b[39;49m\u001b[39m.\u001b[39;49m_represents\u001b[39m.\u001b[39;49mdecompose(bases\u001b[39m=\u001b[39;49mbases)\n",
      "File \u001b[0;32m~/miniforge3/envs/Ant/lib/python3.11/site-packages/astropy/units/core.py:2442\u001b[0m, in \u001b[0;36mCompositeUnit.decompose\u001b[0;34m(self, bases)\u001b[0m\n\u001b[1;32m   2439\u001b[0m         \u001b[39mself\u001b[39m\u001b[39m.\u001b[39m_decomposed_cache \u001b[39m=\u001b[39m \u001b[39mself\u001b[39m\n\u001b[1;32m   2440\u001b[0m     \u001b[39mreturn\u001b[39;00m \u001b[39mself\u001b[39m\n\u001b[0;32m-> 2442\u001b[0m x \u001b[39m=\u001b[39m CompositeUnit(\n\u001b[1;32m   2443\u001b[0m     \u001b[39mself\u001b[39;49m\u001b[39m.\u001b[39;49mscale, \u001b[39mself\u001b[39;49m\u001b[39m.\u001b[39;49mbases, \u001b[39mself\u001b[39;49m\u001b[39m.\u001b[39;49mpowers, decompose\u001b[39m=\u001b[39;49m\u001b[39mTrue\u001b[39;49;00m, decompose_bases\u001b[39m=\u001b[39;49mbases\n\u001b[1;32m   2444\u001b[0m )\n\u001b[1;32m   2445\u001b[0m \u001b[39mif\u001b[39;00m \u001b[39mlen\u001b[39m(bases) \u001b[39m==\u001b[39m \u001b[39m0\u001b[39m:\n\u001b[1;32m   2446\u001b[0m     \u001b[39mself\u001b[39m\u001b[39m.\u001b[39m_decomposed_cache \u001b[39m=\u001b[39m x\n",
      "File \u001b[0;32m~/miniforge3/envs/Ant/lib/python3.11/site-packages/astropy/units/core.py:2349\u001b[0m, in \u001b[0;36mCompositeUnit.__init__\u001b[0;34m(self, scale, bases, powers, decompose, decompose_bases, _error_check)\u001b[0m\n\u001b[1;32m   2347\u001b[0m \u001b[39mself\u001b[39m\u001b[39m.\u001b[39m_bases \u001b[39m=\u001b[39m bases\n\u001b[1;32m   2348\u001b[0m \u001b[39mself\u001b[39m\u001b[39m.\u001b[39m_powers \u001b[39m=\u001b[39m powers\n\u001b[0;32m-> 2349\u001b[0m \u001b[39mself\u001b[39;49m\u001b[39m.\u001b[39;49m_expand_and_gather(decompose\u001b[39m=\u001b[39;49mdecompose, bases\u001b[39m=\u001b[39;49mdecompose_bases)\n",
      "File \u001b[0;32m~/miniforge3/envs/Ant/lib/python3.11/site-packages/astropy/units/core.py:2405\u001b[0m, in \u001b[0;36mCompositeUnit._expand_and_gather\u001b[0;34m(self, decompose, bases)\u001b[0m\n\u001b[1;32m   2403\u001b[0m \u001b[39mfor\u001b[39;00m b, p \u001b[39min\u001b[39;00m \u001b[39mzip\u001b[39m(\u001b[39mself\u001b[39m\u001b[39m.\u001b[39m_bases, \u001b[39mself\u001b[39m\u001b[39m.\u001b[39m_powers):\n\u001b[1;32m   2404\u001b[0m     \u001b[39mif\u001b[39;00m decompose \u001b[39mand\u001b[39;00m b \u001b[39mnot\u001b[39;00m \u001b[39min\u001b[39;00m bases:\n\u001b[0;32m-> 2405\u001b[0m         b \u001b[39m=\u001b[39m b\u001b[39m.\u001b[39;49mdecompose(bases\u001b[39m=\u001b[39;49mbases)\n\u001b[1;32m   2407\u001b[0m     \u001b[39mif\u001b[39;00m \u001b[39misinstance\u001b[39m(b, CompositeUnit):\n\u001b[1;32m   2408\u001b[0m         scale \u001b[39m*\u001b[39m\u001b[39m=\u001b[39m b\u001b[39m.\u001b[39m_scale\u001b[39m*\u001b[39m\u001b[39m*\u001b[39mp\n",
      "File \u001b[0;32m~/miniforge3/envs/Ant/lib/python3.11/site-packages/astropy/units/core.py:1953\u001b[0m, in \u001b[0;36mIrreducibleUnit.decompose\u001b[0;34m(self, bases)\u001b[0m\n\u001b[1;32m   1950\u001b[0m             \u001b[39melse\u001b[39;00m:\n\u001b[1;32m   1951\u001b[0m                 \u001b[39mreturn\u001b[39;00m CompositeUnit(scale, [base], [\u001b[39m1\u001b[39m], _error_check\u001b[39m=\u001b[39m\u001b[39mFalse\u001b[39;00m)\n\u001b[0;32m-> 1953\u001b[0m     \u001b[39mraise\u001b[39;00m UnitConversionError(\n\u001b[1;32m   1954\u001b[0m         \u001b[39mf\u001b[39m\u001b[39m\"\u001b[39m\u001b[39mUnit \u001b[39m\u001b[39m{\u001b[39;00m\u001b[39mself\u001b[39m\u001b[39m}\u001b[39;00m\u001b[39m can not be decomposed into the requested bases\u001b[39m\u001b[39m\"\u001b[39m\n\u001b[1;32m   1955\u001b[0m     )\n\u001b[1;32m   1957\u001b[0m \u001b[39mreturn\u001b[39;00m \u001b[39mself\u001b[39m\n",
      "\u001b[0;31mUnitConversionError\u001b[0m: Unit m can not be decomposed into the requested bases"
     ]
    }
   ],
   "source": [
    "import astropy.units as u\n",
    "from gala.potential import NFWPotential\n",
    "from gala.dynamics import PhaseSpacePosition\n",
    "from gala.integrate import LeapfrogIntegrator\n",
    "from gala.units import galactic\n",
    "\n",
    "# Define the NFW potential with appropriate units\n",
    "mass = 1e12 * u.Msun  # Mass of the halo\n",
    "rs = 20 * u.kpc  # Scale radius\n",
    "nfw_potential = NFWPotential(m=mass, r_s=rs, units=galactic)\n",
    "\n",
    "# Initial conditions with consistent units\n",
    "pos = [20, 0, 0] * u.kpc\n",
    "vel = [0, 220, 0] * u.km / u.s\n",
    "progenitor = PhaseSpacePosition(pos=pos, vel=vel)\n",
    "\n",
    "# Integration setup\n",
    "integrator = LeapfrogIntegrator(nfw_potential)\n",
    "dt = 1   # Ensure the time step has appropriate units\n",
    "n_steps = 1000 \n",
    "\n",
    "# Perform the integration\n",
    "orbit = integrator.run(progenitor, dt=dt, n_steps=n_steps)\n"
   ]
  },
  {
   "cell_type": "code",
   "execution_count": null,
   "metadata": {},
   "outputs": [],
   "source": []
  }
 ],
 "metadata": {
  "kernelspec": {
   "display_name": "Ant",
   "language": "python",
   "name": "python3"
  },
  "language_info": {
   "codemirror_mode": {
    "name": "ipython",
    "version": 3
   },
   "file_extension": ".py",
   "mimetype": "text/x-python",
   "name": "python",
   "nbconvert_exporter": "python",
   "pygments_lexer": "ipython3",
   "version": "3.11.6"
  },
  "orig_nbformat": 4
 },
 "nbformat": 4,
 "nbformat_minor": 2
}
