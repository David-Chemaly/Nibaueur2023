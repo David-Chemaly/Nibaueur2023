{
 "cells": [
  {
   "cell_type": "code",
   "execution_count": 1,
   "metadata": {},
   "outputs": [],
   "source": [
    "import torch\n",
    "import torch.nn as nn\n",
    "import numpy as np\n",
    "import matplotlib.pyplot as plt\n",
    "from tqdm import tqdm"
   ]
  },
  {
   "cell_type": "code",
   "execution_count": 5,
   "metadata": {},
   "outputs": [],
   "source": [
    "x_data = np.loadtxt('x_testdata.txt')\n",
    "y_data = np.loadtxt('y_testdata.txt')\n",
    "\n",
    "x_data = torch.from_numpy(x_data)\n",
    "y_data = torch.from_numpy(y_data)"
   ]
  },
  {
   "cell_type": "code",
   "execution_count": 6,
   "metadata": {},
   "outputs": [
    {
     "data": {
      "text/plain": [
       "torch.Size([10, 2])"
      ]
     },
     "execution_count": 6,
     "metadata": {},
     "output_type": "execute_result"
    }
   ],
   "source": [
    "class PlanarFlowCorrected(nn.Module):\n",
    "    def __init__(self, dim):\n",
    "        super(PlanarFlowCorrected, self).__init__()\n",
    "        self.u = nn.Parameter(torch.randn(dim))\n",
    "        self.w = nn.Parameter(torch.randn(dim))\n",
    "        self.b = nn.Parameter(torch.randn(1))\n",
    "        \n",
    "    def forward(self, z):\n",
    "        tanh_term = torch.tanh(z @ self.w.unsqueeze(-1) + self.b)\n",
    "        psi = (1 - tanh_term ** 2) * self.w\n",
    "        det_jacobian = torch.abs(1 + psi @ self.u)\n",
    "        f_z = z + self.u * tanh_term\n",
    "        return f_z, det_jacobian\n",
    "\n",
    "# Corrected planar flow\n",
    "dim = 2\n",
    "planar_flow_corrected = PlanarFlowCorrected(dim)\n",
    "\n",
    "# Quick test to check the transformation\n",
    "z_sample = torch.randn(10, 2)\n",
    "\n",
    "transformed_corrected, _ = planar_flow_corrected(z_sample)\n",
    "\n",
    "transformed_corrected.shape"
   ]
  },
  {
   "cell_type": "code",
   "execution_count": 27,
   "metadata": {},
   "outputs": [
    {
     "name": "stdout",
     "output_type": "stream",
     "text": [
      "Epoch 200/20000, Loss: -0.2771\n",
      "Epoch 400/20000, Loss: -0.4390\n",
      "Epoch 600/20000, Loss: 0.1376\n",
      "Epoch 800/20000, Loss: -0.5044\n",
      "Epoch 1000/20000, Loss: -0.6611\n",
      "Epoch 1200/20000, Loss: -0.3082\n",
      "Epoch 1400/20000, Loss: 0.0611\n",
      "Epoch 1600/20000, Loss: 0.0927\n",
      "Epoch 1800/20000, Loss: -0.8250\n",
      "Epoch 2000/20000, Loss: -0.0896\n",
      "Epoch 2200/20000, Loss: -0.0937\n",
      "Epoch 2400/20000, Loss: -0.3303\n",
      "Epoch 2600/20000, Loss: -0.1814\n",
      "Epoch 2800/20000, Loss: -0.2429\n",
      "Epoch 3000/20000, Loss: -0.4575\n",
      "Epoch 3200/20000, Loss: -0.1792\n",
      "Epoch 3400/20000, Loss: 0.0307\n",
      "Epoch 3600/20000, Loss: 0.0938\n",
      "Epoch 3800/20000, Loss: -0.5925\n",
      "Epoch 4000/20000, Loss: -0.2386\n",
      "Epoch 4200/20000, Loss: -0.3648\n",
      "Epoch 4400/20000, Loss: -0.3912\n",
      "Epoch 4600/20000, Loss: 0.1221\n",
      "Epoch 4800/20000, Loss: -0.3920\n",
      "Epoch 5000/20000, Loss: -0.3033\n",
      "Epoch 5200/20000, Loss: -0.1849\n",
      "Epoch 5400/20000, Loss: -0.0950\n",
      "Epoch 5600/20000, Loss: -0.0236\n",
      "Epoch 5800/20000, Loss: 0.3621\n",
      "Epoch 6000/20000, Loss: -0.8164\n",
      "Epoch 6200/20000, Loss: 0.0013\n",
      "Epoch 6400/20000, Loss: -0.2897\n",
      "Epoch 6600/20000, Loss: -0.1744\n",
      "Epoch 6800/20000, Loss: -0.2854\n",
      "Epoch 7000/20000, Loss: -0.1051\n",
      "Epoch 7200/20000, Loss: -0.3521\n",
      "Epoch 7400/20000, Loss: 0.0229\n",
      "Epoch 7600/20000, Loss: -0.3750\n",
      "Epoch 7800/20000, Loss: 0.1549\n",
      "Epoch 8000/20000, Loss: -0.3355\n",
      "Epoch 8200/20000, Loss: -0.3740\n",
      "Epoch 8400/20000, Loss: -0.2572\n",
      "Epoch 8600/20000, Loss: -0.4162\n",
      "Epoch 8800/20000, Loss: 0.1016\n",
      "Epoch 9000/20000, Loss: -0.5147\n",
      "Epoch 9200/20000, Loss: -0.0099\n",
      "Epoch 9400/20000, Loss: 0.2594\n",
      "Epoch 9600/20000, Loss: -0.5766\n",
      "Epoch 9800/20000, Loss: -0.1232\n",
      "Epoch 10000/20000, Loss: -0.3590\n",
      "Epoch 10200/20000, Loss: -0.2818\n",
      "Epoch 10400/20000, Loss: -0.4398\n",
      "Epoch 10600/20000, Loss: -0.4628\n",
      "Epoch 10800/20000, Loss: -0.0289\n",
      "Epoch 11000/20000, Loss: -0.3752\n",
      "Epoch 11200/20000, Loss: 0.0830\n",
      "Epoch 11400/20000, Loss: -0.8781\n",
      "Epoch 11600/20000, Loss: -0.2510\n",
      "Epoch 11800/20000, Loss: -0.3475\n",
      "Epoch 12000/20000, Loss: -0.7159\n",
      "Epoch 12200/20000, Loss: -0.5938\n",
      "Epoch 12400/20000, Loss: -0.5851\n",
      "Epoch 12600/20000, Loss: -0.2955\n",
      "Epoch 12800/20000, Loss: -0.1777\n",
      "Epoch 13000/20000, Loss: -0.0055\n",
      "Epoch 13200/20000, Loss: -0.4825\n",
      "Epoch 13400/20000, Loss: -0.4348\n",
      "Epoch 13600/20000, Loss: -0.3513\n",
      "Epoch 13800/20000, Loss: -0.1051\n",
      "Epoch 14000/20000, Loss: -0.1111\n",
      "Epoch 14200/20000, Loss: -0.4994\n",
      "Epoch 14400/20000, Loss: -0.6278\n",
      "Epoch 14600/20000, Loss: -0.4656\n",
      "Epoch 14800/20000, Loss: -0.4424\n",
      "Epoch 15000/20000, Loss: -0.7086\n",
      "Epoch 15200/20000, Loss: -0.3004\n",
      "Epoch 15400/20000, Loss: -0.6209\n",
      "Epoch 15600/20000, Loss: -0.5580\n",
      "Epoch 15800/20000, Loss: -0.2078\n",
      "Epoch 16000/20000, Loss: -0.2814\n",
      "Epoch 16200/20000, Loss: -0.4453\n",
      "Epoch 16400/20000, Loss: -0.0970\n",
      "Epoch 16600/20000, Loss: -0.3363\n",
      "Epoch 16800/20000, Loss: -0.5523\n",
      "Epoch 17000/20000, Loss: -0.0495\n",
      "Epoch 17200/20000, Loss: 0.1871\n",
      "Epoch 17400/20000, Loss: -0.5483\n",
      "Epoch 17600/20000, Loss: -0.8546\n",
      "Epoch 17800/20000, Loss: -0.3555\n",
      "Epoch 18000/20000, Loss: -0.3911\n",
      "Epoch 18200/20000, Loss: -0.0522\n",
      "Epoch 18400/20000, Loss: -0.1623\n",
      "Epoch 18600/20000, Loss: 0.0176\n",
      "Epoch 18800/20000, Loss: -0.2522\n",
      "Epoch 19000/20000, Loss: -0.0465\n",
      "Epoch 19200/20000, Loss: -0.1016\n",
      "Epoch 19400/20000, Loss: -0.1325\n",
      "Epoch 19600/20000, Loss: -0.5920\n",
      "Epoch 19800/20000, Loss: -0.0882\n",
      "Epoch 20000/20000, Loss: -0.0148\n"
     ]
    },
    {
     "data": {
      "text/plain": [
       "[-0.6468933820724487,\n",
       " -0.7495127320289612,\n",
       " -0.6434693932533264,\n",
       " -0.5151106119155884,\n",
       " -0.014835527166724205]"
      ]
     },
     "execution_count": 27,
     "metadata": {},
     "output_type": "execute_result"
    }
   ],
   "source": [
    "# Define the training function for the normalizing flow\n",
    "def train_normalizing_flow(flow, data, epochs=1000, lr=0.01):\n",
    "    optimizer = torch.optim.Adam(flow.parameters(), lr=lr)\n",
    "    base_dist = torch.distributions.Normal(0, 1)\n",
    "    \n",
    "    losses = []\n",
    "    for epoch in range(epochs):\n",
    "        optimizer.zero_grad()\n",
    "        \n",
    "        # Sample from the base distribution\n",
    "        z0 = base_dist.sample((data.shape[0], dim))\n",
    "        \n",
    "        # Apply the normalizing flow transformation\n",
    "        zk, det_jacobian = flow(z0)\n",
    "        \n",
    "        # Compute the log likelihood of the transformed samples\n",
    "        log_likelihood = base_dist.log_prob(z0).sum(1) + torch.log(det_jacobian)\n",
    "        loss = -torch.mean(log_likelihood)\n",
    "        \n",
    "        loss.backward()\n",
    "        optimizer.step()\n",
    "        \n",
    "        losses.append(loss.item())\n",
    "        \n",
    "        if (epoch + 1) % 200 == 0:\n",
    "            print(f\"Epoch {epoch+1}/{epochs}, Loss: {loss.item():.4f}\")\n",
    "    \n",
    "    return flow, losses\n",
    "\n",
    "# Training data (the provided x and y data points)\n",
    "data = torch.stack([x_data, y_data], dim=1)\n",
    "\n",
    "# Train the normalizing flow\n",
    "trained_flow, training_losses = train_normalizing_flow(planar_flow_corrected, data/data.max(), epochs=20000, lr=0.0001)\n",
    "\n",
    "training_losses[-5:]  # Display the last 5 loss values for brevity\n"
   ]
  },
  {
   "cell_type": "code",
   "execution_count": 28,
   "metadata": {},
   "outputs": [
    {
     "data": {
      "text/plain": [
       "<matplotlib.collections.PathCollection at 0x1425dcd90>"
      ]
     },
     "execution_count": 28,
     "metadata": {},
     "output_type": "execute_result"
    },
    {
     "data": {
      "image/png": "[encoded data removed]",
      "text/plain": [
       "<Figure size 640x480 with 1 Axes>"
      ]
     },
     "metadata": {},
     "output_type": "display_data"
    }
   ],
   "source": [
    "out = trained_flow.forward(torch.randn(10, 2))\n",
    "plt.scatter(out[0][:,0].detach().numpy(),out[0][:,1].detach().numpy())\n",
    "plt.scatter(x_data/x_data.max(),y_data/y_data.max())"
   ]
  },
  {
   "cell_type": "code",
   "execution_count": null,
   "metadata": {},
   "outputs": [],
   "source": []
  }
 ],
 "metadata": {
  "kernelspec": {
   "display_name": "Torch",
   "language": "python",
   "name": "python3"
  },
  "language_info": {
   "codemirror_mode": {
    "name": "ipython",
    "version": 3
   },
   "file_extension": ".py",
   "mimetype": "text/x-python",
   "name": "python",
   "nbconvert_exporter": "python",
   "pygments_lexer": "ipython3",
   "version": "3.9.16"
  },
  "orig_nbformat": 4
 },
 "nbformat": 4,
 "nbformat_minor": 2
}
